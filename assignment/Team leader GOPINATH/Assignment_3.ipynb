{
 "cells": [
  {
   "cell_type": "markdown",
   "id": "19b7024d",
   "metadata": {},
   "source": [
    "# Build CNN Model for Classification Of Flowers"
   ]
  },
  {
   "cell_type": "code",
   "execution_count": null,
   "id": "358ddae6",
   "metadata": {},
   "outputs": [],
   "source": []
  },
  {
   "cell_type": "markdown",
   "id": "4dff0a28",
   "metadata": {},
   "source": [
    "### Task 1:  Download the Dataset"
   ]
  },
  {
   "cell_type": "markdown",
   "id": "c2a0e408",
   "metadata": {},
   "source": [
    "The dataset succesfully downloaded"
   ]
  },
  {
   "cell_type": "code",
   "execution_count": 3,
   "id": "b374222c",
   "metadata": {},
   "outputs": [],
   "source": [
    "# import the libraries"
   ]
  },
  {
   "cell_type": "code",
   "execution_count": 4,
   "id": "94562e76",
   "metadata": {},
   "outputs": [],
   "source": [
    "from tensorflow.keras.models import Sequential\n",
    "from tensorflow.keras.layers import Dense"
   ]
  },
  {
   "cell_type": "code",
   "execution_count": 5,
   "id": "ee5d6ee5",
   "metadata": {},
   "outputs": [],
   "source": [
    "from tensorflow.keras.layers import Convolution2D\n",
    "from tensorflow.keras.layers import MaxPooling2D\n",
    "from tensorflow.keras.layers import Flatten"
   ]
  },
  {
   "cell_type": "markdown",
   "id": "d92169ca",
   "metadata": {},
   "source": [
    "### Task2:  Image Augmentation"
   ]
  },
  {
   "cell_type": "code",
   "execution_count": 6,
   "id": "4e6827c5",
   "metadata": {},
   "outputs": [],
   "source": [
    "from tensorflow.keras.preprocessing.image import ImageDataGenerator"
   ]
  },
  {
   "cell_type": "code",
   "execution_count": 7,
   "id": "9d307a71",
   "metadata": {},
   "outputs": [],
   "source": [
    "train_datagen = ImageDataGenerator(rescale=1./255,shear_range=0.2,zoom_range=0.2,horizontal_flip=True,vertical_flip=True)\n"
   ]
  },
  {
   "cell_type": "code",
   "execution_count": 8,
   "id": "5cb2f621",
   "metadata": {},
   "outputs": [],
   "source": [
    "test_datagen = ImageDataGenerator(rescale=1./255)"
   ]
  },
  {
   "cell_type": "code",
   "execution_count": 9,
   "id": "a636eb77",
   "metadata": {},
   "outputs": [],
   "source": [
    "#load my images data"
   ]
  },
  {
   "cell_type": "code",
   "execution_count": 10,
   "id": "be80da4e",
   "metadata": {},
   "outputs": [
    {
     "name": "stdout",
     "output_type": "stream",
     "text": [
      "Found 3432 images belonging to 5 classes.\n"
     ]
    }
   ],
   "source": [
    "x_train = train_datagen.flow_from_directory(r\"E:\\PROJECTS\\ibm assignment\\assignment3\\flowers\\training\",target_size=(64,64),batch_size=32,class_mode=\"categorical\")"
   ]
  },
  {
   "cell_type": "code",
   "execution_count": 11,
   "id": "fb3925a7",
   "metadata": {},
   "outputs": [
    {
     "name": "stdout",
     "output_type": "stream",
     "text": [
      "Found 885 images belonging to 5 classes.\n"
     ]
    }
   ],
   "source": [
    "x_test = test_datagen.flow_from_directory(r\"E:\\PROJECTS\\ibm assignment\\assignment3\\flowers\\testing\",target_size=(64,64),batch_size=32,class_mode=\"categorical\")"
   ]
  },
  {
   "cell_type": "code",
   "execution_count": 12,
   "id": "bad69d84",
   "metadata": {},
   "outputs": [
    {
     "data": {
      "text/plain": [
       "{'daisy': 0, 'dandelion': 1, 'rose': 2, 'sunflower': 3, 'tulip': 4}"
      ]
     },
     "execution_count": 12,
     "metadata": {},
     "output_type": "execute_result"
    }
   ],
   "source": [
    "x_train.class_indices"
   ]
  },
  {
   "cell_type": "code",
   "execution_count": null,
   "id": "88f6fb06",
   "metadata": {},
   "outputs": [],
   "source": []
  },
  {
   "cell_type": "markdown",
   "id": "a2427665",
   "metadata": {},
   "source": [
    "# Task 3 : Create Mode"
   ]
  },
  {
   "cell_type": "code",
   "execution_count": 13,
   "id": "0240119d",
   "metadata": {},
   "outputs": [],
   "source": [
    "#initialize the model"
   ]
  },
  {
   "cell_type": "code",
   "execution_count": 14,
   "id": "6aeff3a5",
   "metadata": {},
   "outputs": [],
   "source": [
    "model = Sequential()"
   ]
  },
  {
   "cell_type": "markdown",
   "id": "a6842e3a",
   "metadata": {},
   "source": [
    "## Task 4 :Add Layers (Convolution,MaxPooling,Flatten,Dense-(Hidden Layers),Output)"
   ]
  },
  {
   "cell_type": "code",
   "execution_count": 15,
   "id": "195ef984",
   "metadata": {},
   "outputs": [],
   "source": [
    "#add convolution layer\n",
    "model.add(Convolution2D(32,(3,3),input_shape=(64,64,3),activation='relu'))"
   ]
  },
  {
   "cell_type": "code",
   "execution_count": 16,
   "id": "8a6a89b0",
   "metadata": {},
   "outputs": [],
   "source": [
    "#add maxpooling layer \n",
    "model.add(MaxPooling2D(pool_size=(2,2)))"
   ]
  },
  {
   "cell_type": "code",
   "execution_count": null,
   "id": "6a7758eb",
   "metadata": {},
   "outputs": [],
   "source": []
  },
  {
   "cell_type": "code",
   "execution_count": 17,
   "id": "86aad2fd",
   "metadata": {},
   "outputs": [],
   "source": [
    "#flatten layer =>input layer to your ANN\n",
    "model.add(Flatten())"
   ]
  },
  {
   "cell_type": "code",
   "execution_count": 18,
   "id": "3b0dbb54",
   "metadata": {},
   "outputs": [],
   "source": [
    "#hidden layers"
   ]
  },
  {
   "cell_type": "code",
   "execution_count": 19,
   "id": "0e4417f4",
   "metadata": {},
   "outputs": [],
   "source": [
    "model.add(Dense(units=300,kernel_initializer=\"random_uniform\",activation=\"relu\"))"
   ]
  },
  {
   "cell_type": "code",
   "execution_count": 20,
   "id": "853a1fd5",
   "metadata": {},
   "outputs": [],
   "source": [
    "model.add(Dense(units=300,kernel_initializer=\"random_uniform\",activation=\"relu\"))"
   ]
  },
  {
   "cell_type": "code",
   "execution_count": 21,
   "id": "6151d905",
   "metadata": {},
   "outputs": [],
   "source": [
    "model.add(Dense(units=200,kernel_initializer=\"random_uniform\",activation=\"relu\"))"
   ]
  },
  {
   "cell_type": "code",
   "execution_count": 22,
   "id": "9772e435",
   "metadata": {},
   "outputs": [],
   "source": [
    "#output layer"
   ]
  },
  {
   "cell_type": "code",
   "execution_count": 23,
   "id": "8565cc22",
   "metadata": {},
   "outputs": [],
   "source": [
    "model.add(Dense(units=5,kernel_initializer=\"random_uniform\",activation=\"softmax\"))"
   ]
  },
  {
   "cell_type": "markdown",
   "id": "beb602c4",
   "metadata": {},
   "source": [
    "# Task 5:  Compile The Model"
   ]
  },
  {
   "cell_type": "code",
   "execution_count": 24,
   "id": "7c25fed6",
   "metadata": {},
   "outputs": [],
   "source": [
    "#compile the model"
   ]
  },
  {
   "cell_type": "code",
   "execution_count": 33,
   "id": "fefebaf4",
   "metadata": {},
   "outputs": [],
   "source": [
    "model.compile(loss=\"categorical_crossentropy\",optimizer=\"adam\",metrics=[\"accuracy\"])"
   ]
  },
  {
   "cell_type": "markdown",
   "id": "cf494aaf",
   "metadata": {},
   "source": [
    "# Task 6: Fit The Model"
   ]
  },
  {
   "cell_type": "code",
   "execution_count": 26,
   "id": "b638c6f4",
   "metadata": {},
   "outputs": [],
   "source": [
    "#train the model"
   ]
  },
  {
   "cell_type": "code",
   "execution_count": 34,
   "id": "9febdeca",
   "metadata": {},
   "outputs": [
    {
     "name": "stderr",
     "output_type": "stream",
     "text": [
      "C:\\Users\\gopin\\AppData\\Local\\Temp\\ipykernel_6448\\3663072991.py:1: UserWarning: `Model.fit_generator` is deprecated and will be removed in a future version. Please use `Model.fit`, which supports generators.\n",
      "  model.fit_generator(x_train,steps_per_epoch=107,epochs=30,validation_data=x_test,validation_steps=27)\n"
     ]
    },
    {
     "name": "stdout",
     "output_type": "stream",
     "text": [
      "Epoch 1/30\n",
      "107/107 [==============================] - 204s 2s/step - loss: 1.3474 - accuracy: 0.3979 - val_loss: 1.1717 - val_accuracy: 0.4850\n",
      "Epoch 2/30\n",
      "107/107 [==============================] - 52s 485ms/step - loss: 1.1743 - accuracy: 0.4938 - val_loss: 1.1250 - val_accuracy: 0.5660\n",
      "Epoch 3/30\n",
      "107/107 [==============================] - 49s 452ms/step - loss: 1.0672 - accuracy: 0.5629 - val_loss: 1.2977 - val_accuracy: 0.4676\n",
      "Epoch 4/30\n",
      "107/107 [==============================] - 50s 464ms/step - loss: 0.9997 - accuracy: 0.6068 - val_loss: 1.0616 - val_accuracy: 0.5868\n",
      "Epoch 5/30\n",
      "107/107 [==============================] - 49s 453ms/step - loss: 0.9717 - accuracy: 0.6182 - val_loss: 1.1829 - val_accuracy: 0.5382\n",
      "Epoch 6/30\n",
      "107/107 [==============================] - 51s 472ms/step - loss: 0.9324 - accuracy: 0.6353 - val_loss: 0.9365 - val_accuracy: 0.6447\n",
      "Epoch 7/30\n",
      "107/107 [==============================] - 48s 451ms/step - loss: 0.8801 - accuracy: 0.6515 - val_loss: 1.0832 - val_accuracy: 0.5995\n",
      "Epoch 8/30\n",
      "107/107 [==============================] - 49s 457ms/step - loss: 0.8772 - accuracy: 0.6624 - val_loss: 0.9805 - val_accuracy: 0.6331\n",
      "Epoch 9/30\n",
      "107/107 [==============================] - 48s 448ms/step - loss: 0.8182 - accuracy: 0.6882 - val_loss: 1.0451 - val_accuracy: 0.6030\n",
      "Epoch 10/30\n",
      "107/107 [==============================] - 49s 452ms/step - loss: 0.7855 - accuracy: 0.6988 - val_loss: 0.9255 - val_accuracy: 0.6539\n",
      "Epoch 11/30\n",
      "107/107 [==============================] - 48s 449ms/step - loss: 0.7635 - accuracy: 0.6974 - val_loss: 0.9917 - val_accuracy: 0.6435\n",
      "Epoch 12/30\n",
      "107/107 [==============================] - 49s 460ms/step - loss: 0.7195 - accuracy: 0.7265 - val_loss: 1.0029 - val_accuracy: 0.6389\n",
      "Epoch 13/30\n",
      "107/107 [==============================] - 48s 448ms/step - loss: 0.7312 - accuracy: 0.7138 - val_loss: 1.0442 - val_accuracy: 0.6215\n",
      "Epoch 14/30\n",
      "107/107 [==============================] - 49s 454ms/step - loss: 0.6686 - accuracy: 0.7453 - val_loss: 1.0148 - val_accuracy: 0.6609\n",
      "Epoch 15/30\n",
      "107/107 [==============================] - 49s 452ms/step - loss: 0.6536 - accuracy: 0.7503 - val_loss: 1.0133 - val_accuracy: 0.6493\n",
      "Epoch 16/30\n",
      "107/107 [==============================] - 49s 453ms/step - loss: 0.6081 - accuracy: 0.7700 - val_loss: 1.0726 - val_accuracy: 0.6447\n",
      "Epoch 17/30\n",
      "107/107 [==============================] - 50s 468ms/step - loss: 0.5916 - accuracy: 0.7729 - val_loss: 1.0499 - val_accuracy: 0.6562\n",
      "Epoch 18/30\n",
      "107/107 [==============================] - 51s 474ms/step - loss: 0.5907 - accuracy: 0.7768 - val_loss: 1.0276 - val_accuracy: 0.6424\n",
      "Epoch 19/30\n",
      "107/107 [==============================] - 49s 458ms/step - loss: 0.5862 - accuracy: 0.7732 - val_loss: 1.1507 - val_accuracy: 0.6435\n",
      "Epoch 20/30\n",
      "107/107 [==============================] - 48s 449ms/step - loss: 0.5254 - accuracy: 0.7979 - val_loss: 1.0763 - val_accuracy: 0.6562\n",
      "Epoch 21/30\n",
      "107/107 [==============================] - 49s 453ms/step - loss: 0.5187 - accuracy: 0.8082 - val_loss: 1.2558 - val_accuracy: 0.6354\n",
      "Epoch 22/30\n",
      "107/107 [==============================] - 49s 453ms/step - loss: 0.4830 - accuracy: 0.8200 - val_loss: 1.1454 - val_accuracy: 0.6551\n",
      "Epoch 23/30\n",
      "107/107 [==============================] - 49s 460ms/step - loss: 0.5039 - accuracy: 0.8094 - val_loss: 1.0476 - val_accuracy: 0.6644\n",
      "Epoch 24/30\n",
      "107/107 [==============================] - 49s 461ms/step - loss: 0.4745 - accuracy: 0.8285 - val_loss: 1.1761 - val_accuracy: 0.6319\n",
      "Epoch 25/30\n",
      "107/107 [==============================] - 49s 457ms/step - loss: 0.4483 - accuracy: 0.8326 - val_loss: 1.1150 - val_accuracy: 0.6574\n",
      "Epoch 26/30\n",
      "107/107 [==============================] - 48s 451ms/step - loss: 0.4257 - accuracy: 0.8426 - val_loss: 1.1154 - val_accuracy: 0.6528\n",
      "Epoch 27/30\n",
      "107/107 [==============================] - 49s 453ms/step - loss: 0.3983 - accuracy: 0.8521 - val_loss: 1.0977 - val_accuracy: 0.6771\n",
      "Epoch 28/30\n",
      "107/107 [==============================] - 48s 449ms/step - loss: 0.4114 - accuracy: 0.8518 - val_loss: 1.1320 - val_accuracy: 0.6748\n",
      "Epoch 29/30\n",
      "107/107 [==============================] - 48s 451ms/step - loss: 0.3586 - accuracy: 0.8712 - val_loss: 1.2408 - val_accuracy: 0.6470\n",
      "Epoch 30/30\n",
      "107/107 [==============================] - 50s 464ms/step - loss: 0.3645 - accuracy: 0.8656 - val_loss: 1.2494 - val_accuracy: 0.6389\n"
     ]
    },
    {
     "data": {
      "text/plain": [
       "<keras.callbacks.History at 0x22fa7eef730>"
      ]
     },
     "execution_count": 34,
     "metadata": {},
     "output_type": "execute_result"
    }
   ],
   "source": [
    "model.fit_generator(x_train,steps_per_epoch=107,epochs=30,validation_data=x_test,validation_steps=27)"
   ]
  },
  {
   "cell_type": "markdown",
   "id": "527ff27b",
   "metadata": {},
   "source": [
    "# Task 7:  Save The Model"
   ]
  },
  {
   "cell_type": "code",
   "execution_count": 35,
   "id": "af82d52b",
   "metadata": {},
   "outputs": [],
   "source": [
    "#save the model\n",
    "model.save(\"flower.h5\")"
   ]
  },
  {
   "cell_type": "markdown",
   "id": "06ba8e72",
   "metadata": {},
   "source": [
    "# Task 8: Test The Model"
   ]
  },
  {
   "cell_type": "code",
   "execution_count": 36,
   "id": "62093bfe",
   "metadata": {},
   "outputs": [],
   "source": [
    "#testing model"
   ]
  },
  {
   "cell_type": "code",
   "execution_count": 37,
   "id": "00951867",
   "metadata": {},
   "outputs": [],
   "source": [
    "from tensorflow.keras.models import load_model\n",
    "from tensorflow.keras.preprocessing import image\n",
    "import numpy as np"
   ]
  },
  {
   "cell_type": "code",
   "execution_count": null,
   "id": "91adefad",
   "metadata": {},
   "outputs": [],
   "source": []
  },
  {
   "cell_type": "code",
   "execution_count": 92,
   "id": "6228877f",
   "metadata": {},
   "outputs": [],
   "source": [
    "img=image.load_img(\"tulip.jpg\",target_size=(64,64))"
   ]
  },
  {
   "cell_type": "code",
   "execution_count": 93,
   "id": "b586a41b",
   "metadata": {},
   "outputs": [
    {
     "data": {
      "image/png": "[encoded data removed]",
      "text/plain": [
       "<PIL.Image.Image image mode=RGB size=64x64 at 0x22FA849A310>"
      ]
     },
     "execution_count": 93,
     "metadata": {},
     "output_type": "execute_result"
    }
   ],
   "source": [
    "img"
   ]
  },
  {
   "cell_type": "code",
   "execution_count": 94,
   "id": "c2027f5b",
   "metadata": {},
   "outputs": [
    {
     "data": {
      "text/plain": [
       "PIL.Image.Image"
      ]
     },
     "execution_count": 94,
     "metadata": {},
     "output_type": "execute_result"
    }
   ],
   "source": [
    "type(img)"
   ]
  },
  {
   "cell_type": "code",
   "execution_count": 95,
   "id": "0a059657",
   "metadata": {},
   "outputs": [],
   "source": [
    "x= image.img_to_array(img)"
   ]
  },
  {
   "cell_type": "code",
   "execution_count": 96,
   "id": "caebc266",
   "metadata": {},
   "outputs": [
    {
     "data": {
      "text/plain": [
       "array([[[ 51.,  31.,  80.],\n",
       "        [ 48.,  28.,  79.],\n",
       "        [ 52.,  32.,  85.],\n",
       "        ...,\n",
       "        [ 48.,  31.,  86.],\n",
       "        [ 44.,  27.,  81.],\n",
       "        [ 43.,  26.,  78.]],\n",
       "\n",
       "       [[ 49.,  29.,  80.],\n",
       "        [ 50.,  30.,  83.],\n",
       "        [ 55.,  32.,  86.],\n",
       "        ...,\n",
       "        [ 46.,  29.,  84.],\n",
       "        [ 44.,  27.,  81.],\n",
       "        [ 42.,  25.,  79.]],\n",
       "\n",
       "       [[ 53.,  33.,  84.],\n",
       "        [ 52.,  32.,  85.],\n",
       "        [ 54.,  31.,  85.],\n",
       "        ...,\n",
       "        [ 48.,  29.,  85.],\n",
       "        [ 44.,  25.,  81.],\n",
       "        [ 46.,  27.,  82.]],\n",
       "\n",
       "       ...,\n",
       "\n",
       "       [[100.,  72., 131.],\n",
       "        [103.,  73., 133.],\n",
       "        [100.,  76., 134.],\n",
       "        ...,\n",
       "        [144., 123., 182.],\n",
       "        [142., 118., 178.],\n",
       "        [139., 118., 177.]],\n",
       "\n",
       "       [[ 96.,  68., 127.],\n",
       "        [102.,  77., 135.],\n",
       "        [100.,  72., 131.],\n",
       "        ...,\n",
       "        [140., 119., 178.],\n",
       "        [138., 116., 178.],\n",
       "        [134., 113., 172.]],\n",
       "\n",
       "       [[ 95.,  70., 127.],\n",
       "        [ 98.,  73., 130.],\n",
       "        [101.,  76., 134.],\n",
       "        ...,\n",
       "        [132., 111., 170.],\n",
       "        [128., 107., 166.],\n",
       "        [133., 112., 171.]]], dtype=float32)"
      ]
     },
     "execution_count": 96,
     "metadata": {},
     "output_type": "execute_result"
    }
   ],
   "source": [
    "x"
   ]
  },
  {
   "cell_type": "code",
   "execution_count": 97,
   "id": "cc2285b0",
   "metadata": {},
   "outputs": [
    {
     "data": {
      "text/plain": [
       "(64, 64, 3)"
      ]
     },
     "execution_count": 97,
     "metadata": {},
     "output_type": "execute_result"
    }
   ],
   "source": [
    "x.shape"
   ]
  },
  {
   "cell_type": "code",
   "execution_count": 98,
   "id": "5b763948",
   "metadata": {},
   "outputs": [],
   "source": [
    "x = np.expand_dims(x,axis=0)"
   ]
  },
  {
   "cell_type": "code",
   "execution_count": 99,
   "id": "92bb0347",
   "metadata": {},
   "outputs": [
    {
     "data": {
      "text/plain": [
       "(1, 64, 64, 3)"
      ]
     },
     "execution_count": 99,
     "metadata": {},
     "output_type": "execute_result"
    }
   ],
   "source": [
    "x.shape"
   ]
  },
  {
   "cell_type": "code",
   "execution_count": 100,
   "id": "1fa30e4a",
   "metadata": {},
   "outputs": [
    {
     "name": "stdout",
     "output_type": "stream",
     "text": [
      "1/1 [==============================] - 0s 125ms/step\n"
     ]
    }
   ],
   "source": [
    "pred_prob = model.predict(x)"
   ]
  },
  {
   "cell_type": "code",
   "execution_count": 101,
   "id": "7dbea001",
   "metadata": {},
   "outputs": [
    {
     "data": {
      "text/plain": [
       "array([[0., 0., 0., 0., 1.]], dtype=float32)"
      ]
     },
     "execution_count": 101,
     "metadata": {},
     "output_type": "execute_result"
    }
   ],
   "source": [
    "pred_prob"
   ]
  },
  {
   "cell_type": "code",
   "execution_count": 102,
   "id": "ef46ecc8",
   "metadata": {},
   "outputs": [],
   "source": [
    "class_name=[\"daisy\",\"dandelion\",\"rose\",\"sunflower\",\"tulip\"]\n",
    "pred_id = pred_prob.argmax(axis=1)[0]"
   ]
  },
  {
   "cell_type": "code",
   "execution_count": 103,
   "id": "5885a8f8",
   "metadata": {},
   "outputs": [
    {
     "data": {
      "text/plain": [
       "4"
      ]
     },
     "execution_count": 103,
     "metadata": {},
     "output_type": "execute_result"
    }
   ],
   "source": [
    "pred_id"
   ]
  },
  {
   "cell_type": "code",
   "execution_count": 104,
   "id": "6472cb2b",
   "metadata": {},
   "outputs": [
    {
     "name": "stdout",
     "output_type": "stream",
     "text": [
      "predited flower is  tulip\n"
     ]
    }
   ],
   "source": [
    "print(\"predited flower is \",str(class_name[pred_id]))"
   ]
  },
  {
   "cell_type": "code",
   "execution_count": null,
   "id": "f7d596cb",
   "metadata": {},
   "outputs": [],
   "source": []
  },
  {
   "cell_type": "code",
   "execution_count": null,
   "id": "e88d534d",
   "metadata": {},
   "outputs": [],
   "source": []
  }
 ],
 "metadata": {
  "kernelspec": {
   "display_name": "Python 3 (ipykernel)",
   "language": "python",
   "name": "python3"
  },
  "language_info": {
   "codemirror_mode": {
    "name": "ipython",
    "version": 3
   },
   "file_extension": ".py",
   "mimetype": "text/x-python",
   "name": "python",
   "nbconvert_exporter": "python",
   "pygments_lexer": "ipython3",
   "version": "3.9.12"
  }
 },
 "nbformat": 4,
 "nbformat_minor": 5
}
