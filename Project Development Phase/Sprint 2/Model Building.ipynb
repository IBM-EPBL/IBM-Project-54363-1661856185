{
 "cells": [
  {
   "cell_type": "markdown",
   "id": "19b7024d",
   "metadata": {},
   "source": [
    "# Classification of Arrhythmia by Using Deep Learning with 2-D ECG Spectral Image Representation"
   ]
  },
  {
   "cell_type": "markdown",
   "id": "472403fc",
   "metadata": {},
   "source": [
    "## Sprint 2"
   ]
  },
  {
   "cell_type": "markdown",
   "id": "524719e7",
   "metadata": {},
   "source": [
    "### Model Building"
   ]
  },
  {
   "cell_type": "code",
   "execution_count": 1,
   "id": "b374222c",
   "metadata": {},
   "outputs": [],
   "source": [
    "# import the libraries"
   ]
  },
  {
   "cell_type": "code",
   "execution_count": 2,
   "id": "94562e76",
   "metadata": {},
   "outputs": [],
   "source": [
    "from tensorflow.keras.models import Sequential\n",
    "from tensorflow.keras.layers import Dense"
   ]
  },
  {
   "cell_type": "code",
   "execution_count": 3,
   "id": "ee5d6ee5",
   "metadata": {},
   "outputs": [],
   "source": [
    "from tensorflow.keras.layers import Convolution2D\n",
    "from tensorflow.keras.layers import MaxPooling2D\n",
    "from tensorflow.keras.layers import Flatten"
   ]
  },
  {
   "cell_type": "code",
   "execution_count": null,
   "id": "df79afce",
   "metadata": {},
   "outputs": [],
   "source": []
  },
  {
   "cell_type": "code",
   "execution_count": 4,
   "id": "4e6827c5",
   "metadata": {},
   "outputs": [],
   "source": [
    "from tensorflow.keras.preprocessing.image import ImageDataGenerator"
   ]
  },
  {
   "cell_type": "code",
   "execution_count": 5,
   "id": "9d307a71",
   "metadata": {},
   "outputs": [],
   "source": [
    "train_datagen = ImageDataGenerator(rescale=1./255,shear_range=0,zoom_range=0,horizontal_flip=False,vertical_flip=False)\n"
   ]
  },
  {
   "cell_type": "code",
   "execution_count": 6,
   "id": "5cb2f621",
   "metadata": {},
   "outputs": [],
   "source": [
    "test_datagen = ImageDataGenerator(rescale=1./255)"
   ]
  },
  {
   "cell_type": "code",
   "execution_count": 7,
   "id": "a636eb77",
   "metadata": {},
   "outputs": [],
   "source": [
    "#load my images data"
   ]
  },
  {
   "cell_type": "code",
   "execution_count": 8,
   "id": "be80da4e",
   "metadata": {},
   "outputs": [
    {
     "name": "stdout",
     "output_type": "stream",
     "text": [
      "Found 15341 images belonging to 6 classes.\n"
     ]
    }
   ],
   "source": [
    "x_train = train_datagen.flow_from_directory(r\"E:\\PROJECTS\\IBM projrct\\local\\data\\train\",target_size=(64,64),batch_size=32,class_mode=\"categorical\")"
   ]
  },
  {
   "cell_type": "code",
   "execution_count": 9,
   "id": "fb3925a7",
   "metadata": {},
   "outputs": [
    {
     "name": "stdout",
     "output_type": "stream",
     "text": [
      "Found 6825 images belonging to 6 classes.\n"
     ]
    }
   ],
   "source": [
    "x_test = test_datagen.flow_from_directory(r\"E:\\PROJECTS\\IBM projrct\\local\\data\\test\",target_size=(64,64),batch_size=32,class_mode=\"categorical\")"
   ]
  },
  {
   "cell_type": "code",
   "execution_count": 10,
   "id": "bad69d84",
   "metadata": {},
   "outputs": [
    {
     "data": {
      "text/plain": [
       "{'Left Bundle Branch Block': 0,\n",
       " 'Normal': 1,\n",
       " 'Premature Atrial Contraction': 2,\n",
       " 'Premature Ventricular Contractions': 3,\n",
       " 'Right Bundle Branch Block': 4,\n",
       " 'Ventricular Fibrillation': 5}"
      ]
     },
     "execution_count": 10,
     "metadata": {},
     "output_type": "execute_result"
    }
   ],
   "source": [
    "x_train.class_indices"
   ]
  },
  {
   "cell_type": "code",
   "execution_count": 11,
   "id": "0240119d",
   "metadata": {},
   "outputs": [],
   "source": [
    "#initialize the model"
   ]
  },
  {
   "cell_type": "code",
   "execution_count": 12,
   "id": "6aeff3a5",
   "metadata": {},
   "outputs": [],
   "source": [
    "model = Sequential()"
   ]
  },
  {
   "cell_type": "code",
   "execution_count": 13,
   "id": "195ef984",
   "metadata": {},
   "outputs": [],
   "source": [
    "#add convolution layer\n",
    "model.add(Convolution2D(32,(3,3),input_shape=(64,64,3),activation='relu'))"
   ]
  },
  {
   "cell_type": "code",
   "execution_count": 14,
   "id": "8a6a89b0",
   "metadata": {},
   "outputs": [],
   "source": [
    "#add maxpooling layer \n",
    "model.add(MaxPooling2D(pool_size=(2,2)))"
   ]
  },
  {
   "cell_type": "code",
   "execution_count": 15,
   "id": "86aad2fd",
   "metadata": {},
   "outputs": [],
   "source": [
    "#flatten layer =>input layer to your ANN\n",
    "model.add(Flatten())"
   ]
  },
  {
   "cell_type": "code",
   "execution_count": 16,
   "id": "3b0dbb54",
   "metadata": {},
   "outputs": [],
   "source": [
    "#hidden layers"
   ]
  },
  {
   "cell_type": "code",
   "execution_count": 17,
   "id": "0e4417f4",
   "metadata": {},
   "outputs": [],
   "source": [
    "model.add(Dense(units=300,kernel_initializer=\"random_uniform\",activation=\"relu\"))"
   ]
  },
  {
   "cell_type": "code",
   "execution_count": 18,
   "id": "e3ac024e",
   "metadata": {},
   "outputs": [],
   "source": [
    "model.add(Dense(units=500,kernel_initializer=\"random_uniform\",activation=\"relu\"))"
   ]
  },
  {
   "cell_type": "code",
   "execution_count": 19,
   "id": "888736b9",
   "metadata": {},
   "outputs": [],
   "source": [
    "model.add(Dense(units=600,kernel_initializer=\"random_uniform\",activation=\"relu\"))"
   ]
  },
  {
   "cell_type": "code",
   "execution_count": 20,
   "id": "850c881c",
   "metadata": {},
   "outputs": [],
   "source": [
    "model.add(Dense(units=500,kernel_initializer=\"random_uniform\",activation=\"relu\"))"
   ]
  },
  {
   "cell_type": "code",
   "execution_count": 21,
   "id": "853a1fd5",
   "metadata": {},
   "outputs": [],
   "source": [
    "model.add(Dense(units=300,kernel_initializer=\"random_uniform\",activation=\"relu\"))"
   ]
  },
  {
   "cell_type": "code",
   "execution_count": 22,
   "id": "6151d905",
   "metadata": {},
   "outputs": [],
   "source": [
    "model.add(Dense(units=200,kernel_initializer=\"random_uniform\",activation=\"relu\"))"
   ]
  },
  {
   "cell_type": "code",
   "execution_count": 23,
   "id": "9772e435",
   "metadata": {},
   "outputs": [],
   "source": [
    "#output layer"
   ]
  },
  {
   "cell_type": "code",
   "execution_count": 24,
   "id": "8565cc22",
   "metadata": {},
   "outputs": [],
   "source": [
    "model.add(Dense(units=6,kernel_initializer=\"random_uniform\",activation=\"softmax\"))"
   ]
  },
  {
   "cell_type": "code",
   "execution_count": 25,
   "id": "7c25fed6",
   "metadata": {},
   "outputs": [],
   "source": [
    "#compile the model"
   ]
  },
  {
   "cell_type": "code",
   "execution_count": 26,
   "id": "fefebaf4",
   "metadata": {},
   "outputs": [],
   "source": [
    "model.compile(loss=\"categorical_crossentropy\",optimizer=\"adam\",metrics=[\"accuracy\"])"
   ]
  },
  {
   "cell_type": "code",
   "execution_count": 27,
   "id": "b638c6f4",
   "metadata": {},
   "outputs": [],
   "source": [
    "#train the model"
   ]
  },
  {
   "cell_type": "code",
   "execution_count": 28,
   "id": "9febdeca",
   "metadata": {},
   "outputs": [
    {
     "name": "stderr",
     "output_type": "stream",
     "text": [
      "C:\\Users\\gopin\\AppData\\Local\\Temp\\ipykernel_3376\\3101372841.py:1: UserWarning: `Model.fit_generator` is deprecated and will be removed in a future version. Please use `Model.fit`, which supports generators.\n",
      "  model.fit_generator(x_train,steps_per_epoch=480,epochs=40,validation_data=x_test,validation_steps=106)\n"
     ]
    },
    {
     "name": "stdout",
     "output_type": "stream",
     "text": [
      "Epoch 1/40\n",
      "480/480 [==============================] - 761s 2s/step - loss: 0.6688 - accuracy: 0.7440 - val_loss: 0.5551 - val_accuracy: 0.8414\n",
      "Epoch 2/40\n",
      "480/480 [==============================] - 312s 650ms/step - loss: 0.1201 - accuracy: 0.9640 - val_loss: 0.5443 - val_accuracy: 0.8485\n",
      "Epoch 3/40\n",
      "480/480 [==============================] - 198s 413ms/step - loss: 0.1114 - accuracy: 0.9716 - val_loss: 0.8405 - val_accuracy: 0.8511\n",
      "Epoch 4/40\n",
      "480/480 [==============================] - 184s 383ms/step - loss: 0.0949 - accuracy: 0.9737 - val_loss: 0.4279 - val_accuracy: 0.9148\n",
      "Epoch 5/40\n",
      "480/480 [==============================] - 173s 361ms/step - loss: 0.0353 - accuracy: 0.9896 - val_loss: 0.6073 - val_accuracy: 0.8853\n",
      "Epoch 6/40\n",
      "480/480 [==============================] - 164s 342ms/step - loss: 0.0268 - accuracy: 0.9920 - val_loss: 0.5425 - val_accuracy: 0.8998\n",
      "Epoch 7/40\n",
      "480/480 [==============================] - 163s 341ms/step - loss: 0.0204 - accuracy: 0.9947 - val_loss: 0.6264 - val_accuracy: 0.8927\n",
      "Epoch 8/40\n",
      "480/480 [==============================] - 173s 361ms/step - loss: 0.1140 - accuracy: 0.9784 - val_loss: 1.0889 - val_accuracy: 0.8591\n",
      "Epoch 9/40\n",
      "480/480 [==============================] - 173s 360ms/step - loss: 0.0177 - accuracy: 0.9948 - val_loss: 1.3698 - val_accuracy: 0.8685\n",
      "Epoch 10/40\n",
      "480/480 [==============================] - 381s 795ms/step - loss: 0.0146 - accuracy: 0.9964 - val_loss: 1.4411 - val_accuracy: 0.8585\n",
      "Epoch 11/40\n",
      "480/480 [==============================] - 193s 402ms/step - loss: 0.0097 - accuracy: 0.9977 - val_loss: 1.3292 - val_accuracy: 0.8765\n",
      "Epoch 12/40\n",
      "480/480 [==============================] - 331s 690ms/step - loss: 0.0054 - accuracy: 0.9984 - val_loss: 1.5239 - val_accuracy: 0.8880\n",
      "Epoch 13/40\n",
      "480/480 [==============================] - 361s 753ms/step - loss: 0.0345 - accuracy: 0.9887 - val_loss: 1.0675 - val_accuracy: 0.8759\n",
      "Epoch 14/40\n",
      "480/480 [==============================] - 253s 528ms/step - loss: 0.0091 - accuracy: 0.9979 - val_loss: 1.4012 - val_accuracy: 0.8721\n",
      "Epoch 15/40\n",
      "480/480 [==============================] - 186s 388ms/step - loss: 0.0112 - accuracy: 0.9977 - val_loss: 1.1458 - val_accuracy: 0.8753\n",
      "Epoch 16/40\n",
      "480/480 [==============================] - 179s 373ms/step - loss: 0.0140 - accuracy: 0.9967 - val_loss: 1.4034 - val_accuracy: 0.8662\n",
      "Epoch 17/40\n",
      "480/480 [==============================] - 173s 360ms/step - loss: 0.8455 - accuracy: 0.6953 - val_loss: 1.6552 - val_accuracy: 0.3225\n",
      "Epoch 18/40\n",
      "480/480 [==============================] - 241s 502ms/step - loss: 1.4281 - accuracy: 0.4788 - val_loss: 1.6518 - val_accuracy: 0.3287\n",
      "Epoch 19/40\n",
      "480/480 [==============================] - 216s 450ms/step - loss: 1.5480 - accuracy: 0.4797 - val_loss: 1.6534 - val_accuracy: 0.3152\n",
      "Epoch 20/40\n",
      "480/480 [==============================] - 179s 372ms/step - loss: 1.4309 - accuracy: 0.4784 - val_loss: 1.6457 - val_accuracy: 0.3205\n",
      "Epoch 21/40\n",
      "480/480 [==============================] - 175s 365ms/step - loss: 1.4265 - accuracy: 0.4788 - val_loss: 1.6721 - val_accuracy: 0.3166\n",
      "Epoch 22/40\n",
      "480/480 [==============================] - 180s 375ms/step - loss: 1.4262 - accuracy: 0.4788 - val_loss: 1.6738 - val_accuracy: 0.3163\n",
      "Epoch 23/40\n",
      "480/480 [==============================] - 177s 369ms/step - loss: 1.0398 - accuracy: 0.6202 - val_loss: 1.4826 - val_accuracy: 0.8538\n",
      "Epoch 24/40\n",
      "480/480 [==============================] - 178s 370ms/step - loss: 0.0622 - accuracy: 0.9834 - val_loss: 0.7400 - val_accuracy: 0.8862\n",
      "Epoch 25/40\n",
      "480/480 [==============================] - 176s 368ms/step - loss: 0.0103 - accuracy: 0.9977 - val_loss: 1.1927 - val_accuracy: 0.8691\n",
      "Epoch 26/40\n",
      "480/480 [==============================] - 182s 380ms/step - loss: 0.0044 - accuracy: 0.9990 - val_loss: 1.4052 - val_accuracy: 0.8741\n",
      "Epoch 27/40\n",
      "480/480 [==============================] - 179s 373ms/step - loss: 0.0077 - accuracy: 0.9988 - val_loss: 1.4897 - val_accuracy: 0.8824\n",
      "Epoch 28/40\n",
      "480/480 [==============================] - 176s 366ms/step - loss: 0.0442 - accuracy: 0.9879 - val_loss: 1.1161 - val_accuracy: 0.8774\n",
      "Epoch 29/40\n",
      "480/480 [==============================] - 179s 372ms/step - loss: 0.0065 - accuracy: 0.9990 - val_loss: 1.2568 - val_accuracy: 0.8948\n",
      "Epoch 30/40\n",
      "480/480 [==============================] - 178s 370ms/step - loss: 6.0846e-04 - accuracy: 0.9999 - val_loss: 1.7974 - val_accuracy: 0.8942\n",
      "Epoch 31/40\n",
      "480/480 [==============================] - 175s 365ms/step - loss: 4.9003e-04 - accuracy: 0.9999 - val_loss: 1.7002 - val_accuracy: 0.8980\n",
      "Epoch 32/40\n",
      "480/480 [==============================] - 187s 390ms/step - loss: 4.6201e-04 - accuracy: 0.9999 - val_loss: 1.8449 - val_accuracy: 0.8933\n",
      "Epoch 33/40\n",
      "480/480 [==============================] - 198s 412ms/step - loss: 4.1053e-04 - accuracy: 0.9999 - val_loss: 1.9616 - val_accuracy: 0.8942\n",
      "Epoch 34/40\n",
      "480/480 [==============================] - 181s 378ms/step - loss: 3.8581e-04 - accuracy: 0.9999 - val_loss: 1.7877 - val_accuracy: 0.9048\n",
      "Epoch 35/40\n",
      "480/480 [==============================] - 177s 368ms/step - loss: 4.1990e-04 - accuracy: 0.9999 - val_loss: 2.0813 - val_accuracy: 0.8965\n",
      "Epoch 36/40\n",
      "480/480 [==============================] - 180s 376ms/step - loss: 3.8583e-04 - accuracy: 0.9999 - val_loss: 2.0969 - val_accuracy: 0.8945\n",
      "Epoch 37/40\n",
      "480/480 [==============================] - 282s 588ms/step - loss: 3.8704e-04 - accuracy: 0.9999 - val_loss: 1.9835 - val_accuracy: 0.8962\n",
      "Epoch 38/40\n",
      "480/480 [==============================] - 196s 408ms/step - loss: 3.8678e-04 - accuracy: 0.9999 - val_loss: 2.1705 - val_accuracy: 0.8983\n",
      "Epoch 39/40\n",
      "480/480 [==============================] - 178s 371ms/step - loss: 3.7474e-04 - accuracy: 0.9999 - val_loss: 2.3124 - val_accuracy: 0.8962\n",
      "Epoch 40/40\n",
      "480/480 [==============================] - 175s 364ms/step - loss: 3.9158e-04 - accuracy: 0.9999 - val_loss: 2.2551 - val_accuracy: 0.9021\n"
     ]
    },
    {
     "data": {
      "text/plain": [
       "<keras.callbacks.History at 0x196405c6190>"
      ]
     },
     "execution_count": 28,
     "metadata": {},
     "output_type": "execute_result"
    }
   ],
   "source": [
    "model.fit_generator(x_train,steps_per_epoch=480,epochs=40,validation_data=x_test,validation_steps=106)"
   ]
  },
  {
   "cell_type": "markdown",
   "id": "dd82fd2b",
   "metadata": {},
   "source": [
    "## save the model"
   ]
  },
  {
   "cell_type": "code",
   "execution_count": 29,
   "id": "62093bfe",
   "metadata": {},
   "outputs": [],
   "source": [
    "#save the model\n",
    "model.save(\"model1.h5\")"
   ]
  },
  {
   "cell_type": "code",
   "execution_count": null,
   "id": "2d4541e7",
   "metadata": {},
   "outputs": [],
   "source": []
  }
 ],
 "metadata": {
  "kernelspec": {
   "display_name": "Python 3 (ipykernel)",
   "language": "python",
   "name": "python3"
  },
  "language_info": {
   "codemirror_mode": {
    "name": "ipython",
    "version": 3
   },
   "file_extension": ".py",
   "mimetype": "text/x-python",
   "name": "python",
   "nbconvert_exporter": "python",
   "pygments_lexer": "ipython3",
   "version": "3.9.12"
  }
 },
 "nbformat": 4,
 "nbformat_minor": 5
}
